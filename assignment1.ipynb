{
 "cells": [
  {
   "cell_type": "markdown",
   "id": "48109e31-c84f-48db-9b20-e370e8f677f5",
   "metadata": {},
   "source": [
    "1. Who developed Python Programming Language? \n",
    "ans:guido van rossum"
   ]
  },
  {
   "cell_type": "markdown",
   "id": "e5ee98e1-8bce-4580-9a26-65be54388b6d",
   "metadata": {},
   "source": [
    "2. Which type of Programming does Python support? \n",
    "ans:Imperative programming\n",
    "    object oriented programming\n",
    "    functional programming\n",
    "    procedural programming"
   ]
  },
  {
   "cell_type": "markdown",
   "id": "9c145390-a813-4e6e-b7fb-040ce4ebab30",
   "metadata": {},
   "source": [
    "3. Is Python case sensitive when dealing with identifiers? \n",
    "ans:yes python is case sensitive while dealing with identifiers"
   ]
  },
  {
   "cell_type": "markdown",
   "id": "994a1320-bbe4-4692-805d-71f43b5b5b35",
   "metadata": {},
   "source": [
    "4. What is the correct extension of the Python file? \n",
    "ans:the extension is .py generally and .pyc,.pyd,.pyo"
   ]
  },
  {
   "cell_type": "markdown",
   "id": "08efe457-4915-41b4-b799-bfc8e4ef53a9",
   "metadata": {},
   "source": [
    "5. Is Python code compiled or interpreted? \n",
    "ans: python program is first compiled and then interpreted."
   ]
  },
  {
   "cell_type": "markdown",
   "id": "292b1809-e368-4501-bb0d-c624e364bf0c",
   "metadata": {},
   "source": [
    "6. Name a few blocks of code used to define in Python language? \n",
    "ans:Indentation is used to define a block of code in python\n",
    "    example:name = 'Alex'\n",
    "    \n",
    "if name == 'Alex':\n",
    "    print('Correct Name!!')\n",
    "else:\n",
    "\tprint('InCorrect Name:(')\n",
    "print('HI')"
   ]
  },
  {
   "cell_type": "markdown",
   "id": "e14a2c24-5be7-4cfb-960b-4ce99d1772af",
   "metadata": {},
   "source": [
    "7. State a character used to give single-line comments in Python? \n",
    "ans: We use the # symbol to write a single-line comment."
   ]
  },
  {
   "cell_type": "markdown",
   "id": "bc0e6a1d-d7c6-4729-b477-27b925a87ca7",
   "metadata": {},
   "source": [
    "8. Mention functions which can help us to find the version of python that we are currently working on? \n",
    "ans: The function sys.version can help us to find the version of python that we are currently working on\n"
   ]
  },
  {
   "cell_type": "markdown",
   "id": "e143f272-7f21-413c-aa04-9991623e0ccc",
   "metadata": {},
   "source": [
    "9. Python supports the creation of anonymous functions at runtime, using a construct called \n",
    "ans:python allows creation of anonymous function using the construct lambda"
   ]
  },
  {
   "cell_type": "markdown",
   "id": "d2f13bc5-7baf-424c-947a-2861c2012f7b",
   "metadata": {},
   "source": [
    "10. What does pip stand for python? \n",
    "ans:The full-form of pip is pip installs packages. \n"
   ]
  },
  {
   "cell_type": "markdown",
   "id": "44bedbc3-cd62-43e1-8164-6fc67ce14ba3",
   "metadata": {},
   "source": [
    "11.mention few built-in functions in python?\n",
    "ans:few built in functions in python are:\n",
    "    print(),type(),sort(),range(),upper(),lower(),isalnum(),capitalize() etc....\n",
    "    "
   ]
  },
  {
   "cell_type": "markdown",
   "id": "0509169f-f886-4279-ba7a-7a01e5e16bbe",
   "metadata": {},
   "source": [
    "12. What is the maximum possible length of an identifier in Python? \n",
    "ans:the maximum possible length of identifier is 79 characters"
   ]
  },
  {
   "cell_type": "markdown",
   "id": "cc5840ae-60b0-499b-9173-efe780abae0c",
   "metadata": {},
   "source": [
    "13. What are the benefits of using Python? \n",
    "ans:1. Ease of use and read\n",
    "    2.it is extensible\n",
    "    3.it is easy to learn\n",
    "    4.straight forward and speedy\n",
    "    5.asynchronous coding\n",
    "    "
   ]
  },
  {
   "cell_type": "markdown",
   "id": "f1ea1f6a-c42e-4e7d-a3a1-afeec7b7b2b7",
   "metadata": {},
   "source": [
    "14. How is memory managed in Python? \n",
    "ans:Python has a private heap that stores our program’s objects and data structures. Python memory manager takes care of the bulk of the memory management work and allows us to concentrate on our code."
   ]
  },
  {
   "cell_type": "markdown",
   "id": "448389a3-e937-4ea2-befb-2bb90a7d855d",
   "metadata": {},
   "source": [
    "15.how to install python on windows and set path variables?\n",
    "ans:Go on Python.org at the section where you can download the windows executables:\n",
    "Go down in the page and download the following executable (if your computer is 64 bits):\n",
    "\n",
    "Windows x86-64 executable installer\n",
    "SET PATH VARIABLES:\n",
    "Move is to C:/\n",
    "Change the name of the executable to python3.exe\n",
    "Let’s now edit the environment variables to add this new python 3 to the path:\n",
    "Add the 2 new variables as follow:\n",
    "\n",
    "C:\\Python38\\\n",
    "C:\\Python38\\Scripts\n",
    "Now open the command prompt\n",
    "    When you type “python3” in the cmd, you should see the python 3 interpreter opening:\n",
    "\n"
   ]
  },
  {
   "cell_type": "code",
   "execution_count": null,
   "id": "044dc512-4c7e-4278-83f9-de1f041dbf82",
   "metadata": {},
   "outputs": [],
   "source": [
    "16.is identation required in python?\n",
    "ans:yes identation is very important concept of python. because without proper identing the python code we will end up seeing identation error.\n",
    "and code will not be compiled"
   ]
  }
 ],
 "metadata": {
  "kernelspec": {
   "display_name": "Python 3 (ipykernel)",
   "language": "python",
   "name": "python3"
  },
  "language_info": {
   "codemirror_mode": {
    "name": "ipython",
    "version": 3
   },
   "file_extension": ".py",
   "mimetype": "text/x-python",
   "name": "python",
   "nbconvert_exporter": "python",
   "pygments_lexer": "ipython3",
   "version": "3.10.8"
  }
 },
 "nbformat": 4,
 "nbformat_minor": 5
}
